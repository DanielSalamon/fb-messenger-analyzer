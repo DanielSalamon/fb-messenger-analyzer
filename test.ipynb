{
 "cells": [
  {
   "cell_type": "code",
   "execution_count": 1,
   "metadata": {},
   "outputs": [
    {
     "name": "stderr",
     "output_type": "stream",
     "text": [
      "[nltk_data] Downloading package punkt to\n",
      "[nltk_data]     C:\\Users\\danio\\AppData\\Roaming\\nltk_data...\n",
      "[nltk_data]   Package punkt is already up-to-date!\n"
     ]
    },
    {
     "data": {
      "text/plain": [
       "True"
      ]
     },
     "execution_count": 1,
     "metadata": {},
     "output_type": "execute_result"
    }
   ],
   "source": [
    "import os\n",
    "import pandas as pd\n",
    "import numpy as np\n",
    "import json\n",
    "import plotly.graph_objects as go\n",
    "import nltk\n",
    "import re\n",
    "import matplotlib.pyplot as plt\n",
    "import textwrap\n",
    "nltk.download('punkt')\n"
   ]
  },
  {
   "cell_type": "code",
   "execution_count": 29,
   "metadata": {},
   "outputs": [],
   "source": [
    "%load_ext autoreload"
   ]
  },
  {
   "cell_type": "code",
   "execution_count": 30,
   "metadata": {},
   "outputs": [],
   "source": [
    "%autoreload 2"
   ]
  },
  {
   "cell_type": "code",
   "execution_count": 2,
   "metadata": {},
   "outputs": [],
   "source": [
    "path = \"../facebook-danielsalamon3\\messages\\inbox\\pozytywnaekipa_1494021607299571\"\n",
    "#path = \"../facebook-danielsalamon3/messages/inbox/ahofnnordurljosa_1977554722293928\"\n",
    "#path = \"../facebook-danielsalamon3/messages/inbox/polacywholandii_4516574725125124\""
   ]
  },
  {
   "cell_type": "code",
   "execution_count": null,
   "metadata": {},
   "outputs": [],
   "source": [
    "%au"
   ]
  },
  {
   "cell_type": "code",
   "execution_count": 31,
   "metadata": {},
   "outputs": [],
   "source": [
    "from plot_functions import plot_monthly_messages, distribution_pie, generate_wordcloud\n",
    "from pdf_builder_functions import create_transparent_image_with_text\n",
    "from processing_functions import tokenize_messages, prepare_word_freq_distribution, prepare_data, received_reactions_stats, granted_reaction_stats_per_user, get_conversation_stats, get_stats_per_user, get_badges"
   ]
  },
  {
   "cell_type": "code",
   "execution_count": 4,
   "metadata": {},
   "outputs": [],
   "source": [
    "df = prepare_data(path)"
   ]
  },
  {
   "cell_type": "code",
   "execution_count": 5,
   "metadata": {},
   "outputs": [],
   "source": [
    "distribution_pie(df)"
   ]
  },
  {
   "cell_type": "code",
   "execution_count": 6,
   "metadata": {},
   "outputs": [],
   "source": [
    "generate_wordcloud(tokenize_messages(df, path_to_stopwords=\"resources/pl_stopwords.txt\"))"
   ]
  },
  {
   "cell_type": "code",
   "execution_count": 7,
   "metadata": {},
   "outputs": [
    {
     "data": {
      "text/html": [
       "<div>\n",
       "<style scoped>\n",
       "    .dataframe tbody tr th:only-of-type {\n",
       "        vertical-align: middle;\n",
       "    }\n",
       "\n",
       "    .dataframe tbody tr th {\n",
       "        vertical-align: top;\n",
       "    }\n",
       "\n",
       "    .dataframe thead th {\n",
       "        text-align: right;\n",
       "    }\n",
       "</style>\n",
       "<table border=\"1\" class=\"dataframe\">\n",
       "  <thead>\n",
       "    <tr style=\"text-align: right;\">\n",
       "      <th></th>\n",
       "      <th>sender_name</th>\n",
       "      <th>timestamp_ms</th>\n",
       "      <th>content</th>\n",
       "      <th>reactions</th>\n",
       "      <th>datetime</th>\n",
       "      <th>month</th>\n",
       "    </tr>\n",
       "  </thead>\n",
       "  <tbody>\n",
       "    <tr>\n",
       "      <th>0</th>\n",
       "      <td>Kuba Falski</td>\n",
       "      <td>1672587137806</td>\n",
       "      <td>Same shit different year</td>\n",
       "      <td>[{'reaction': 'ð', 'actor': 'Kamil Bielecki'}]</td>\n",
       "      <td>2023-01-01 15:32:17.806</td>\n",
       "      <td>1</td>\n",
       "    </tr>\n",
       "    <tr>\n",
       "      <th>1</th>\n",
       "      <td>Wojciech Pierzchała</td>\n",
       "      <td>1672584978031</td>\n",
       "      <td>Granerud zrobił cieszynke haalanda</td>\n",
       "      <td>NaN</td>\n",
       "      <td>2023-01-01 14:56:18.031</td>\n",
       "      <td>1</td>\n",
       "    </tr>\n",
       "    <tr>\n",
       "      <th>2</th>\n",
       "      <td>Kuba Falski</td>\n",
       "      <td>1672570523245</td>\n",
       "      <td>Kochany</td>\n",
       "      <td>NaN</td>\n",
       "      <td>2023-01-01 10:55:23.245</td>\n",
       "      <td>1</td>\n",
       "    </tr>\n",
       "    <tr>\n",
       "      <th>3</th>\n",
       "      <td>Kuba Falski</td>\n",
       "      <td>1672570522675</td>\n",
       "      <td>nan</td>\n",
       "      <td>[{'reaction': 'â¤', 'actor': 'Kamil Bielecki'...</td>\n",
       "      <td>2023-01-01 10:55:22.675</td>\n",
       "      <td>1</td>\n",
       "    </tr>\n",
       "    <tr>\n",
       "      <th>4</th>\n",
       "      <td>Kuba Falski</td>\n",
       "      <td>1672570514485</td>\n",
       "      <td>O nie zwróciłem wcześniej uwagi</td>\n",
       "      <td>NaN</td>\n",
       "      <td>2023-01-01 10:55:14.485</td>\n",
       "      <td>1</td>\n",
       "    </tr>\n",
       "  </tbody>\n",
       "</table>\n",
       "</div>"
      ],
      "text/plain": [
       "           sender_name   timestamp_ms                             content  \\\n",
       "0          Kuba Falski  1672587137806            Same shit different year   \n",
       "1  Wojciech Pierzchała  1672584978031  Granerud zrobił cieszynke haalanda   \n",
       "2          Kuba Falski  1672570523245                             Kochany   \n",
       "3          Kuba Falski  1672570522675                                 nan   \n",
       "4          Kuba Falski  1672570514485     O nie zwróciłem wcześniej uwagi   \n",
       "\n",
       "                                           reactions                datetime  \\\n",
       "0  [{'reaction': 'ð', 'actor': 'Kamil Bielecki'}] 2023-01-01 15:32:17.806   \n",
       "1                                                NaN 2023-01-01 14:56:18.031   \n",
       "2                                                NaN 2023-01-01 10:55:23.245   \n",
       "3  [{'reaction': 'â¤', 'actor': 'Kamil Bielecki'... 2023-01-01 10:55:22.675   \n",
       "4                                                NaN 2023-01-01 10:55:14.485   \n",
       "\n",
       "   month  \n",
       "0      1  \n",
       "1      1  \n",
       "2      1  \n",
       "3      1  \n",
       "4      1  "
      ]
     },
     "execution_count": 7,
     "metadata": {},
     "output_type": "execute_result"
    }
   ],
   "source": [
    "df.head()"
   ]
  },
  {
   "cell_type": "code",
   "execution_count": 8,
   "metadata": {},
   "outputs": [
    {
     "data": {
      "text/plain": [
       "{'total_reactions': 13687,\n",
       " 'favourite_icon_received': '😆',\n",
       " 'most_reactions_received': 'Kuba Falski'}"
      ]
     },
     "execution_count": 8,
     "metadata": {},
     "output_type": "execute_result"
    }
   ],
   "source": [
    "received_reactions_stats(df)"
   ]
  },
  {
   "cell_type": "code",
   "execution_count": 9,
   "metadata": {},
   "outputs": [],
   "source": [
    "stats = get_conversation_stats(df)"
   ]
  },
  {
   "cell_type": "code",
   "execution_count": 10,
   "metadata": {},
   "outputs": [
    {
     "data": {
      "text/plain": [
       "{'Kuba Falski': {'favourite_reaction_given': '😆',\n",
       "  'favourite_user_to_give': 'Wojciech Pierzchała',\n",
       "  'reactions_given': 3354},\n",
       " 'Wojciech Pierzchała': {'favourite_reaction_given': '😆',\n",
       "  'favourite_user_to_give': 'Piotrek Sokół',\n",
       "  'reactions_given': 2765},\n",
       " 'Kamil Bielecki': {'favourite_reaction_given': '😆',\n",
       "  'favourite_user_to_give': 'Wojciech Pierzchała',\n",
       "  'reactions_given': 2967},\n",
       " 'Maciej Romański': {'favourite_reaction_given': '😆',\n",
       "  'favourite_user_to_give': 'Wojciech Pierzchała',\n",
       "  'reactions_given': 2468},\n",
       " 'Daniel Salamon': {'favourite_reaction_given': '😆',\n",
       "  'favourite_user_to_give': 'Wojciech Pierzchała',\n",
       "  'reactions_given': 1321},\n",
       " 'Piotrek Sokół': {'favourite_reaction_given': '😆',\n",
       "  'favourite_user_to_give': 'Wojciech Pierzchała',\n",
       "  'reactions_given': 810},\n",
       " 'Maria Kościelniak': {'favourite_reaction_given': '👍',\n",
       "  'favourite_user_to_give': 'Maciej Romański',\n",
       "  'reactions_given': 2}}"
      ]
     },
     "execution_count": 10,
     "metadata": {},
     "output_type": "execute_result"
    }
   ],
   "source": [
    "granted_reaction_stats_per_user(df)"
   ]
  },
  {
   "cell_type": "code",
   "execution_count": 11,
   "metadata": {},
   "outputs": [
    {
     "data": {
      "text/plain": [
       "{'total_messages': 77065,\n",
       " 'avg_message_length': 4.62,\n",
       " 'most_busy_day': '2022-11-22',\n",
       " 'messgaes_on_most_busy_day': 989,\n",
       " 'first_message': 'Badanie polegało na podawaniu zwierzętom alkoholu i obserwowaniu ich zachowania, aż do momentu utraty świadomości. Ostatecznie dowiedziono, że chomiki są w stanie spożyć do 20 g etanolu na kilogram masy ciała dziennie bez większej szkody dla zdrowia.\\n\\nNaukowcy oszacowali nawet, że stosunek spożytego przez nie alkoholu do ich wagi odpowiada 21 butelkom wina wypitym przez dorosłego mężczyznę. – Chomiki mogą tolerować takie ilości alkoholu, które w przeliczeniu na człowieka okazałyby się śmiertelne – podsumowuje dr Lawton.',\n",
       " 'first_message_sender': 'Wojciech Pierzchała',\n",
       " 'total_reactions': 13687,\n",
       " 'most_common_reaction': '😆',\n",
       " 'most_emotional_user': 'Kuba Falski'}"
      ]
     },
     "execution_count": 11,
     "metadata": {},
     "output_type": "execute_result"
    }
   ],
   "source": [
    "stats"
   ]
  },
  {
   "cell_type": "code",
   "execution_count": 12,
   "metadata": {},
   "outputs": [],
   "source": [
    "messages = (tokenize_messages(df, path_to_stopwords=\"resources/pl_stopwords.txt\"))\n",
    "c = prepare_word_freq_distribution(messages, n=1)"
   ]
  },
  {
   "cell_type": "code",
   "execution_count": 13,
   "metadata": {},
   "outputs": [],
   "source": [
    "most_common = c.most_common(5)"
   ]
  },
  {
   "cell_type": "code",
   "execution_count": 14,
   "metadata": {},
   "outputs": [
    {
     "data": {
      "text/plain": [
       "[('kurwa', 1731), ('chyba', 1690), ('wiem', 717), ('se', 686), ('chuj', 630)]"
      ]
     },
     "execution_count": 14,
     "metadata": {},
     "output_type": "execute_result"
    }
   ],
   "source": [
    "most_common"
   ]
  },
  {
   "cell_type": "code",
   "execution_count": 15,
   "metadata": {},
   "outputs": [],
   "source": [
    "user_stats = get_stats_per_user(df)"
   ]
  },
  {
   "cell_type": "code",
   "execution_count": 16,
   "metadata": {},
   "outputs": [],
   "source": [
    "badges = get_badges(user_stats)"
   ]
  },
  {
   "cell_type": "code",
   "execution_count": 17,
   "metadata": {},
   "outputs": [
    {
     "data": {
      "text/html": [
       "<div>\n",
       "<style scoped>\n",
       "    .dataframe tbody tr th:only-of-type {\n",
       "        vertical-align: middle;\n",
       "    }\n",
       "\n",
       "    .dataframe tbody tr th {\n",
       "        vertical-align: top;\n",
       "    }\n",
       "\n",
       "    .dataframe thead th {\n",
       "        text-align: right;\n",
       "    }\n",
       "</style>\n",
       "<table border=\"1\" class=\"dataframe\">\n",
       "  <thead>\n",
       "    <tr style=\"text-align: right;\">\n",
       "      <th></th>\n",
       "      <th>total_messages</th>\n",
       "      <th>avg_message_length</th>\n",
       "      <th>most_busy_day</th>\n",
       "      <th>messgaes_on_most_busy_day</th>\n",
       "      <th>first_message</th>\n",
       "      <th>first_message_sender</th>\n",
       "      <th>total_reactions</th>\n",
       "      <th>most_common_reaction</th>\n",
       "      <th>most_emotional_user</th>\n",
       "      <th>favourtie_reaction_given</th>\n",
       "      <th>favourite_user_to_give_to</th>\n",
       "      <th>total_reactions_given_to_others</th>\n",
       "    </tr>\n",
       "  </thead>\n",
       "  <tbody>\n",
       "    <tr>\n",
       "      <th>Kuba Falski</th>\n",
       "      <td>23879</td>\n",
       "      <td>4.95</td>\n",
       "      <td>2022-11-22</td>\n",
       "      <td>289</td>\n",
       "      <td>Czyli o Fodenie to nie ploty</td>\n",
       "      <td>Kuba Falski</td>\n",
       "      <td>2223</td>\n",
       "      <td>😆</td>\n",
       "      <td>Kamil Bielecki</td>\n",
       "      <td>😆</td>\n",
       "      <td>Wojciech Pierzchała</td>\n",
       "      <td>3354</td>\n",
       "    </tr>\n",
       "    <tr>\n",
       "      <th>Wojciech Pierzchała</th>\n",
       "      <td>24635</td>\n",
       "      <td>4.65</td>\n",
       "      <td>2022-04-10</td>\n",
       "      <td>396</td>\n",
       "      <td>Badanie polegało na podawaniu zwierzętom alkoh...</td>\n",
       "      <td>Wojciech Pierzchała</td>\n",
       "      <td>3594</td>\n",
       "      <td>😆</td>\n",
       "      <td>Kuba Falski</td>\n",
       "      <td>😆</td>\n",
       "      <td>Piotrek Sokół</td>\n",
       "      <td>2765</td>\n",
       "    </tr>\n",
       "    <tr>\n",
       "      <th>Kamil Bielecki</th>\n",
       "      <td>8520</td>\n",
       "      <td>4.93</td>\n",
       "      <td>2022-04-10</td>\n",
       "      <td>207</td>\n",
       "      <td>PiotrekSoker.mp3</td>\n",
       "      <td>Kamil Bielecki</td>\n",
       "      <td>1843</td>\n",
       "      <td>😆</td>\n",
       "      <td>Wojciech Pierzchała</td>\n",
       "      <td>😆</td>\n",
       "      <td>Wojciech Pierzchała</td>\n",
       "      <td>2967</td>\n",
       "    </tr>\n",
       "    <tr>\n",
       "      <th>Maciej Romański</th>\n",
       "      <td>6205</td>\n",
       "      <td>3.84</td>\n",
       "      <td>2022-11-22</td>\n",
       "      <td>84</td>\n",
       "      <td>Kto by się spodziewał</td>\n",
       "      <td>Maciej Romański</td>\n",
       "      <td>2276</td>\n",
       "      <td>😆</td>\n",
       "      <td>Kuba Falski</td>\n",
       "      <td>😆</td>\n",
       "      <td>Wojciech Pierzchała</td>\n",
       "      <td>2468</td>\n",
       "    </tr>\n",
       "    <tr>\n",
       "      <th>Daniel Salamon</th>\n",
       "      <td>1936</td>\n",
       "      <td>4.81</td>\n",
       "      <td>2022-04-17</td>\n",
       "      <td>54</td>\n",
       "      <td>Kurwa sie najebalem</td>\n",
       "      <td>Daniel Salamon</td>\n",
       "      <td>633</td>\n",
       "      <td>😆</td>\n",
       "      <td>Kuba Falski</td>\n",
       "      <td>😆</td>\n",
       "      <td>Wojciech Pierzchała</td>\n",
       "      <td>1321</td>\n",
       "    </tr>\n",
       "    <tr>\n",
       "      <th>Piotrek Sokół</th>\n",
       "      <td>11889</td>\n",
       "      <td>4.06</td>\n",
       "      <td>2022-11-10</td>\n",
       "      <td>237</td>\n",
       "      <td>Danilo</td>\n",
       "      <td>Piotrek Sokół</td>\n",
       "      <td>3118</td>\n",
       "      <td>😆</td>\n",
       "      <td>Kuba Falski</td>\n",
       "      <td>😆</td>\n",
       "      <td>Wojciech Pierzchała</td>\n",
       "      <td>810</td>\n",
       "    </tr>\n",
       "  </tbody>\n",
       "</table>\n",
       "</div>"
      ],
      "text/plain": [
       "                     total_messages  avg_message_length most_busy_day  \\\n",
       "Kuba Falski                   23879                4.95    2022-11-22   \n",
       "Wojciech Pierzchała           24635                4.65    2022-04-10   \n",
       "Kamil Bielecki                 8520                4.93    2022-04-10   \n",
       "Maciej Romański                6205                3.84    2022-11-22   \n",
       "Daniel Salamon                 1936                4.81    2022-04-17   \n",
       "Piotrek Sokół                 11889                4.06    2022-11-10   \n",
       "\n",
       "                     messgaes_on_most_busy_day  \\\n",
       "Kuba Falski                                289   \n",
       "Wojciech Pierzchała                        396   \n",
       "Kamil Bielecki                             207   \n",
       "Maciej Romański                             84   \n",
       "Daniel Salamon                              54   \n",
       "Piotrek Sokół                              237   \n",
       "\n",
       "                                                         first_message  \\\n",
       "Kuba Falski                               Czyli o Fodenie to nie ploty   \n",
       "Wojciech Pierzchała  Badanie polegało na podawaniu zwierzętom alkoh...   \n",
       "Kamil Bielecki                                        PiotrekSoker.mp3   \n",
       "Maciej Romański                                  Kto by się spodziewał   \n",
       "Daniel Salamon                                     Kurwa sie najebalem   \n",
       "Piotrek Sokół                                                   Danilo   \n",
       "\n",
       "                    first_message_sender  total_reactions  \\\n",
       "Kuba Falski                  Kuba Falski             2223   \n",
       "Wojciech Pierzchała  Wojciech Pierzchała             3594   \n",
       "Kamil Bielecki            Kamil Bielecki             1843   \n",
       "Maciej Romański          Maciej Romański             2276   \n",
       "Daniel Salamon            Daniel Salamon              633   \n",
       "Piotrek Sokół              Piotrek Sokół             3118   \n",
       "\n",
       "                    most_common_reaction  most_emotional_user  \\\n",
       "Kuba Falski                            😆       Kamil Bielecki   \n",
       "Wojciech Pierzchała                    😆          Kuba Falski   \n",
       "Kamil Bielecki                         😆  Wojciech Pierzchała   \n",
       "Maciej Romański                        😆          Kuba Falski   \n",
       "Daniel Salamon                         😆          Kuba Falski   \n",
       "Piotrek Sokół                          😆          Kuba Falski   \n",
       "\n",
       "                    favourtie_reaction_given favourite_user_to_give_to  \\\n",
       "Kuba Falski                                😆       Wojciech Pierzchała   \n",
       "Wojciech Pierzchała                        😆             Piotrek Sokół   \n",
       "Kamil Bielecki                             😆       Wojciech Pierzchała   \n",
       "Maciej Romański                            😆       Wojciech Pierzchała   \n",
       "Daniel Salamon                             😆       Wojciech Pierzchała   \n",
       "Piotrek Sokół                              😆       Wojciech Pierzchała   \n",
       "\n",
       "                     total_reactions_given_to_others  \n",
       "Kuba Falski                                     3354  \n",
       "Wojciech Pierzchała                             2765  \n",
       "Kamil Bielecki                                  2967  \n",
       "Maciej Romański                                 2468  \n",
       "Daniel Salamon                                  1321  \n",
       "Piotrek Sokół                                    810  "
      ]
     },
     "execution_count": 17,
     "metadata": {},
     "output_type": "execute_result"
    }
   ],
   "source": [
    "user_stats"
   ]
  },
  {
   "cell_type": "code",
   "execution_count": 18,
   "metadata": {},
   "outputs": [],
   "source": [
    "first_message_image = create_transparent_image_with_text(1000, 120, stats[\"first_message\"], 120)\n",
    "first_message_image.save(\"figures/first_message.png\", \"PNG\")"
   ]
  },
  {
   "cell_type": "code",
   "execution_count": 19,
   "metadata": {},
   "outputs": [],
   "source": [
    "def remove_polish_characters(input_text):\n",
    "    special_chars = dict(ł = 'l', ą = 'a', ę = 'e', ż = 'z', ź = 'z', ó = 'o', ś = 's', ć = 'c', ń = 'n')\n",
    "    refined_string = \"\"\n",
    "    for c in input_text:\n",
    "       \n",
    "        refined_string += special_chars[c] if c in special_chars.keys() else c\n",
    "    return refined_string\n",
    "    "
   ]
  },
  {
   "cell_type": "code",
   "execution_count": 20,
   "metadata": {},
   "outputs": [],
   "source": [
    "from fpdf import FPDF\n",
    "\n",
    "def create_main_page(stats, most_common, badges, conversation_title):\n",
    "    pdf = FPDF(orientation = 'L', unit = 'mm', format = 'A4')\n",
    "    pdf.set_auto_page_break(False)\n",
    "    pdf.add_page()\n",
    "\n",
    "\n",
    "\n",
    "\n",
    "    pdf.image('templates/template_main.png', x = 0, y = 0, w = 297, h = 210)\n",
    "    pdf.image('figures/pie.png', x = 205, y = 3, w = 70, h = 70)\n",
    "    pdf.image('figures/wordcloud.png', x = 70, y = 82, w = 95, h = 60)\n",
    "\n",
    "    pdf.set_font('helvetica', 'B', 18)\n",
    "    pdf.set_text_color(33, 131, 128)\n",
    "    \n",
    "    pdf.set_xy(x = 9, y = 45)\n",
    "    pdf.cell(w = 25, h = 10, txt = str(stats[\"total_messages\"]), border=0, align=\"C\", fill=False)\n",
    "    \n",
    "    pdf.set_xy(x = 52, y = 45)\n",
    "    pdf.cell(w = 15, h = 10, txt = str(stats[\"total_reactions\"]), border=0, align=\"C\", fill=False)\n",
    "    \n",
    "    pdf.set_xy(x = 91.5, y = 45)\n",
    "    pdf.cell(w = 20, h = 10, txt = str(stats[\"avg_message_length\"]), border=0, align=\"C\", fill=False)\n",
    "    \n",
    "    pdf.set_xy(x = 131.5, y = 45)\n",
    "    pdf.cell(w = 32, h = 10, txt = str(stats[\"most_busy_day\"]), border=0, align=\"C\", fill=False)\n",
    "\n",
    "\n",
    "    # Most common words section\n",
    "\n",
    "    pdf.set_font('helvetica', 'B', 12)\n",
    "    pdf.set_text_color(33, 131, 128)\n",
    "\n",
    "    \n",
    "    pdf.set_xy(x = 16, y = 100)\n",
    "    pdf.cell(w = 40, h = 5, txt = most_common[0][0] + \" - \" + str(most_common[0][1]), border=0, align=\"L\", fill=False)\n",
    "    \n",
    "    pdf.set_xy(x = 16, y = 111)\n",
    "    pdf.cell(w = 40, h = 5, txt = most_common[1][0] + \" - \" + str(most_common[1][1]), border=0, align=\"L\", fill=False)\n",
    "    \n",
    "    pdf.set_xy(x = 16, y = 122.5)\n",
    "    pdf.cell(w = 40, h = 5, txt = most_common[2][0] + \" - \" + str(most_common[2][1]), border=0, align=\"L\", fill=False)\n",
    "    \n",
    "    pdf.set_xy(x = 16, y = 133.5)\n",
    "    pdf.cell(w = 40, h = 5, txt = most_common[3][0] + \" - \" + str(most_common[3][1]), border=0, align=\"L\", fill=False)\n",
    "    \n",
    "    pdf.set_xy(x = 16, y = 145)\n",
    "    pdf.cell(w = 40, h = 5, txt = most_common[4][0] + \" - \" + str(most_common[4][1]), border=0, align=\"L\", fill=False)\n",
    "\n",
    "\n",
    "    # Badges\n",
    "    pdf.set_font('Arial', 'B', 10)\n",
    "    pdf.set_text_color(33, 131, 128)\n",
    "\n",
    "    # The Messenger\n",
    "    badges[\"Messenger\"] = [remove_polish_characters(i) for i in badges[\"Messenger\"]]\n",
    "    pdf.set_xy(x = 182, y = 118.7)\n",
    "    pdf.cell(w = 30, h = 3, txt = badges[\"Messenger\"][0], border=0, align=\"L\", fill=False)\n",
    "\n",
    "    pdf.set_xy(x = 182, y = 124.5)\n",
    "    pdf.cell(w = 30, h = 3, txt = badges[\"Messenger\"][1], border=0, align=\"L\", fill=False)\n",
    "\n",
    "    pdf.set_xy(x = 182, y = 130.2)\n",
    "    pdf.cell(w = 30, h = 3, txt = badges[\"Messenger\"][2], border=0, align=\"L\", fill=False)\n",
    "\n",
    "    # The Storyteller\n",
    "    badges[\"Storyteller\"] = [remove_polish_characters(i) for i in badges[\"Storyteller\"]]\n",
    "    pdf.set_xy(x = 244.5, y = 118.7)\n",
    "    pdf.cell(w = 30, h = 3, txt = badges[\"Storyteller\"][0], border=0, align=\"L\", fill=False)\n",
    "\n",
    "    pdf.set_xy(x = 244.5, y = 124.5)\n",
    "    pdf.cell(w = 30, h = 3, txt = badges[\"Storyteller\"][1], border=0, align=\"L\", fill=False)\n",
    "\n",
    "    pdf.set_xy(x = 244.5, y = 130.2)\n",
    "    pdf.cell(w = 30, h = 3, txt = badges[\"Storyteller\"][2], border=0, align=\"L\", fill=False)\n",
    "\n",
    "    # The Entertainer\n",
    "    badges[\"Entertainer\"] = [remove_polish_characters(i) for i in badges[\"Entertainer\"]]\n",
    "    pdf.set_xy(x = 182, y = 177.6)\n",
    "    pdf.cell(w = 30, h = 3, txt = badges[\"Entertainer\"][0], border=0, align=\"L\", fill=False)\n",
    "\n",
    "    pdf.set_xy(x = 182, y = 183.4)\n",
    "    pdf.cell(w = 30, h = 3, txt = badges[\"Entertainer\"][1], border=0, align=\"L\", fill=False)\n",
    "\n",
    "    pdf.set_xy(x = 182, y = 189)\n",
    "    pdf.cell(w = 30, h = 3, txt = badges[\"Entertainer\"][2], border=0, align=\"L\", fill=False)\n",
    "\n",
    "    # The Sensitivist\n",
    "    badges[\"Sensitivist\"] = [remove_polish_characters(i) for i in badges[\"Sensitivist\"]]\n",
    "    pdf.set_xy(x = 244.5, y = 177.6)\n",
    "    pdf.cell(w = 30, h = 3, txt = badges[\"Sensitivist\"][0], border=0, align=\"L\", fill=False)\n",
    "\n",
    "    pdf.set_xy(x = 244.5, y = 183.4)\n",
    "    pdf.cell(w = 30, h = 3, txt = badges[\"Sensitivist\"][1], border=0, align=\"L\", fill=False)\n",
    "\n",
    "    pdf.set_xy(x = 244.5, y = 189)\n",
    "    pdf.cell(w = 30, h = 3, txt = badges[\"Sensitivist\"][2], border=0, align=\"L\", fill=False)\n",
    "\n",
    "\n",
    "    # FIRST MESSAGE\n",
    "    first_message_image = create_transparent_image_with_text(1000, 120, stats[\"first_message\"], 120)\n",
    "    first_message_image.save(\"figures/first_message.png\", \"PNG\")\n",
    "    pdf.set_font('Arial', 'B', 10)\n",
    "    pdf.set_text_color(255, 255, 255)\n",
    "\n",
    "    \n",
    "    pdf.set_xy(x = 16, y = 172)\n",
    "    pdf.image('figures/first_message.png', x = 16, y = 172, w = 142, h = 17)\n",
    "\n",
    "    pdf.set_font('helvetica', 'B', 8)\n",
    "    pdf.set_text_color(0, 0, 0)\n",
    "\n",
    "    sender = remove_polish_characters(stats[\"first_message_sender\"])\n",
    "    pdf.set_xy(x = 128, y = 192)\n",
    "    pdf.cell(w = 30, h = 3, txt = sender, border=0, align=\"C\", fill=False)\n",
    "\n",
    "    # Title\n",
    "    pdf.set_font('helvetica', 'B', 26)\n",
    "    pdf.set_text_color(255, 255, 255)\n",
    "\n",
    "    pdf.set_xy(x = 16, y = 10)\n",
    "    pdf.cell(w = 142, h = 17, txt = conversation_title, border=0, align=\"C\", fill=False)\n",
    "\n",
    "    return pdf"
   ]
  },
  {
   "cell_type": "code",
   "execution_count": 66,
   "metadata": {},
   "outputs": [],
   "source": [
    "x = create_main_page(stats, most_common, badges, \"Pozytywna Ekipa\")"
   ]
  },
  {
   "cell_type": "code",
   "execution_count": 68,
   "metadata": {},
   "outputs": [],
   "source": [
    "x.save(\"t.png\")"
   ]
  },
  {
   "cell_type": "code",
   "execution_count": 40,
   "metadata": {},
   "outputs": [],
   "source": [
    "pdf = create_main_page(stats, most_common, badges, \"Pozytywna Ekipa\")"
   ]
  },
  {
   "cell_type": "code",
   "execution_count": 70,
   "metadata": {},
   "outputs": [
    {
     "data": {
      "text/html": [
       "<div>\n",
       "<style scoped>\n",
       "    .dataframe tbody tr th:only-of-type {\n",
       "        vertical-align: middle;\n",
       "    }\n",
       "\n",
       "    .dataframe tbody tr th {\n",
       "        vertical-align: top;\n",
       "    }\n",
       "\n",
       "    .dataframe thead th {\n",
       "        text-align: right;\n",
       "    }\n",
       "</style>\n",
       "<table border=\"1\" class=\"dataframe\">\n",
       "  <thead>\n",
       "    <tr style=\"text-align: right;\">\n",
       "      <th></th>\n",
       "      <th>total_messages</th>\n",
       "      <th>avg_message_length</th>\n",
       "      <th>most_busy_day</th>\n",
       "      <th>messgaes_on_most_busy_day</th>\n",
       "      <th>first_message</th>\n",
       "      <th>first_message_sender</th>\n",
       "      <th>total_reactions</th>\n",
       "      <th>most_common_reaction</th>\n",
       "      <th>most_emotional_user</th>\n",
       "      <th>favourtie_reaction_given</th>\n",
       "      <th>favourite_user_to_give_to</th>\n",
       "      <th>total_reactions_given_to_others</th>\n",
       "    </tr>\n",
       "  </thead>\n",
       "  <tbody>\n",
       "    <tr>\n",
       "      <th>Kuba Falski</th>\n",
       "      <td>23879</td>\n",
       "      <td>4.95</td>\n",
       "      <td>2022-11-22</td>\n",
       "      <td>289</td>\n",
       "      <td>Czyli o Fodenie to nie ploty</td>\n",
       "      <td>Kuba Falski</td>\n",
       "      <td>2223</td>\n",
       "      <td>😆</td>\n",
       "      <td>Kamil Bielecki</td>\n",
       "      <td>😆</td>\n",
       "      <td>Wojciech Pierzchała</td>\n",
       "      <td>3354</td>\n",
       "    </tr>\n",
       "    <tr>\n",
       "      <th>Wojciech Pierzchała</th>\n",
       "      <td>24635</td>\n",
       "      <td>4.65</td>\n",
       "      <td>2022-04-10</td>\n",
       "      <td>396</td>\n",
       "      <td>Badanie polegało na podawaniu zwierzętom alkoh...</td>\n",
       "      <td>Wojciech Pierzchała</td>\n",
       "      <td>3594</td>\n",
       "      <td>😆</td>\n",
       "      <td>Kuba Falski</td>\n",
       "      <td>😆</td>\n",
       "      <td>Piotrek Sokół</td>\n",
       "      <td>2765</td>\n",
       "    </tr>\n",
       "    <tr>\n",
       "      <th>Kamil Bielecki</th>\n",
       "      <td>8520</td>\n",
       "      <td>4.93</td>\n",
       "      <td>2022-04-10</td>\n",
       "      <td>207</td>\n",
       "      <td>PiotrekSoker.mp3</td>\n",
       "      <td>Kamil Bielecki</td>\n",
       "      <td>1843</td>\n",
       "      <td>😆</td>\n",
       "      <td>Wojciech Pierzchała</td>\n",
       "      <td>😆</td>\n",
       "      <td>Wojciech Pierzchała</td>\n",
       "      <td>2967</td>\n",
       "    </tr>\n",
       "    <tr>\n",
       "      <th>Maciej Romański</th>\n",
       "      <td>6205</td>\n",
       "      <td>3.84</td>\n",
       "      <td>2022-11-22</td>\n",
       "      <td>84</td>\n",
       "      <td>Kto by się spodziewał</td>\n",
       "      <td>Maciej Romański</td>\n",
       "      <td>2276</td>\n",
       "      <td>😆</td>\n",
       "      <td>Kuba Falski</td>\n",
       "      <td>😆</td>\n",
       "      <td>Wojciech Pierzchała</td>\n",
       "      <td>2468</td>\n",
       "    </tr>\n",
       "    <tr>\n",
       "      <th>Daniel Salamon</th>\n",
       "      <td>1936</td>\n",
       "      <td>4.81</td>\n",
       "      <td>2022-04-17</td>\n",
       "      <td>54</td>\n",
       "      <td>Kurwa sie najebalem</td>\n",
       "      <td>Daniel Salamon</td>\n",
       "      <td>633</td>\n",
       "      <td>😆</td>\n",
       "      <td>Kuba Falski</td>\n",
       "      <td>😆</td>\n",
       "      <td>Wojciech Pierzchała</td>\n",
       "      <td>1321</td>\n",
       "    </tr>\n",
       "    <tr>\n",
       "      <th>Piotrek Sokół</th>\n",
       "      <td>11889</td>\n",
       "      <td>4.06</td>\n",
       "      <td>2022-11-10</td>\n",
       "      <td>237</td>\n",
       "      <td>Danilo</td>\n",
       "      <td>Piotrek Sokół</td>\n",
       "      <td>3118</td>\n",
       "      <td>😆</td>\n",
       "      <td>Kuba Falski</td>\n",
       "      <td>😆</td>\n",
       "      <td>Wojciech Pierzchała</td>\n",
       "      <td>810</td>\n",
       "    </tr>\n",
       "  </tbody>\n",
       "</table>\n",
       "</div>"
      ],
      "text/plain": [
       "                     total_messages  avg_message_length most_busy_day  \\\n",
       "Kuba Falski                   23879                4.95    2022-11-22   \n",
       "Wojciech Pierzchała           24635                4.65    2022-04-10   \n",
       "Kamil Bielecki                 8520                4.93    2022-04-10   \n",
       "Maciej Romański                6205                3.84    2022-11-22   \n",
       "Daniel Salamon                 1936                4.81    2022-04-17   \n",
       "Piotrek Sokół                 11889                4.06    2022-11-10   \n",
       "\n",
       "                     messgaes_on_most_busy_day  \\\n",
       "Kuba Falski                                289   \n",
       "Wojciech Pierzchała                        396   \n",
       "Kamil Bielecki                             207   \n",
       "Maciej Romański                             84   \n",
       "Daniel Salamon                              54   \n",
       "Piotrek Sokół                              237   \n",
       "\n",
       "                                                         first_message  \\\n",
       "Kuba Falski                               Czyli o Fodenie to nie ploty   \n",
       "Wojciech Pierzchała  Badanie polegało na podawaniu zwierzętom alkoh...   \n",
       "Kamil Bielecki                                        PiotrekSoker.mp3   \n",
       "Maciej Romański                                  Kto by się spodziewał   \n",
       "Daniel Salamon                                     Kurwa sie najebalem   \n",
       "Piotrek Sokół                                                   Danilo   \n",
       "\n",
       "                    first_message_sender  total_reactions  \\\n",
       "Kuba Falski                  Kuba Falski             2223   \n",
       "Wojciech Pierzchała  Wojciech Pierzchała             3594   \n",
       "Kamil Bielecki            Kamil Bielecki             1843   \n",
       "Maciej Romański          Maciej Romański             2276   \n",
       "Daniel Salamon            Daniel Salamon              633   \n",
       "Piotrek Sokół              Piotrek Sokół             3118   \n",
       "\n",
       "                    most_common_reaction  most_emotional_user  \\\n",
       "Kuba Falski                            😆       Kamil Bielecki   \n",
       "Wojciech Pierzchała                    😆          Kuba Falski   \n",
       "Kamil Bielecki                         😆  Wojciech Pierzchała   \n",
       "Maciej Romański                        😆          Kuba Falski   \n",
       "Daniel Salamon                         😆          Kuba Falski   \n",
       "Piotrek Sokół                          😆          Kuba Falski   \n",
       "\n",
       "                    favourtie_reaction_given favourite_user_to_give_to  \\\n",
       "Kuba Falski                                😆       Wojciech Pierzchała   \n",
       "Wojciech Pierzchała                        😆             Piotrek Sokół   \n",
       "Kamil Bielecki                             😆       Wojciech Pierzchała   \n",
       "Maciej Romański                            😆       Wojciech Pierzchała   \n",
       "Daniel Salamon                             😆       Wojciech Pierzchała   \n",
       "Piotrek Sokół                              😆       Wojciech Pierzchała   \n",
       "\n",
       "                     total_reactions_given_to_others  \n",
       "Kuba Falski                                     3354  \n",
       "Wojciech Pierzchała                             2765  \n",
       "Kamil Bielecki                                  2967  \n",
       "Maciej Romański                                 2468  \n",
       "Daniel Salamon                                  1321  \n",
       "Piotrek Sokół                                    810  "
      ]
     },
     "execution_count": 70,
     "metadata": {},
     "output_type": "execute_result"
    }
   ],
   "source": [
    "user_stats"
   ]
  },
  {
   "cell_type": "code",
   "execution_count": 41,
   "metadata": {},
   "outputs": [],
   "source": [
    "user = \"Piotrek Sokół\"\n",
    "data = df.loc[df[\"sender_name\"] == user]\n",
    "#user_stats = get_stats_per_user(df)\n",
    "user_total_messages = user_stats.loc[user, 'total_messages']\n",
    "user_most_busy_day = user_stats.loc[user, 'most_busy_day']\n",
    "user_messages_on_busy_day = user_stats.loc[user, 'messgaes_on_most_busy_day']\n",
    "user_first_message = user_stats.loc[user, 'first_message']\n",
    "user_most_reaction_from = user_stats.loc[user, 'most_emotional_user']\n",
    "user_favourite_messenger = user_stats.loc[user, 'favourite_user_to_give_to']\n",
    "user_total_obtained_reactions = user_stats.loc[user, 'total_reactions']\n",
    "monthly_messages_plot_path = \"figures/{}_monthly.png\".format(user)"
   ]
  },
  {
   "cell_type": "code",
   "execution_count": 42,
   "metadata": {},
   "outputs": [],
   "source": [
    "user_messages = (tokenize_messages(data, path_to_stopwords=\"resources/pl_stopwords.txt\"))\n",
    "user_most_common_words = prepare_word_freq_distribution(user_messages, n=1).most_common(10)\n",
    "user_most_common_bigrams = prepare_word_freq_distribution(user_messages, n=2).most_common(5)"
   ]
  },
  {
   "cell_type": "code",
   "execution_count": 43,
   "metadata": {},
   "outputs": [],
   "source": [
    "plot_monthly_messages(data, monthly_messages_plot_path)"
   ]
  },
  {
   "cell_type": "code",
   "execution_count": 47,
   "metadata": {},
   "outputs": [],
   "source": [
    "def create_scorecard(df, user, user_stats, output_path):\n",
    "\n",
    "    \n",
    "    data = df.loc[df[\"sender_name\"] == user]\n",
    "    #user_stats = get_stats_per_user(df)\n",
    "    user_total_messages = user_stats.loc[user, 'total_messages']\n",
    "    user_most_busy_day = user_stats.loc[user, 'most_busy_day']\n",
    "    user_messages_on_busy_day = user_stats.loc[user, 'messgaes_on_most_busy_day']\n",
    "    user_first_message = user_stats.loc[user, 'first_message']\n",
    "    user_most_reaction_from = user_stats.loc[user, 'most_emotional_user']\n",
    "    user_favourite_messenger = user_stats.loc[user, 'favourite_user_to_give_to']\n",
    "    user_total_obtained_reactions = user_stats.loc[user, 'total_reactions']\n",
    "    monthly_messages_plot_path = \"figures/{}_monthly.png\".format(user)\n",
    "\n",
    "    plot_monthly_messages(data, monthly_messages_plot_path)\n",
    "    user_messages = (tokenize_messages(data, path_to_stopwords=\"resources/pl_stopwords.txt\"))\n",
    "    user_most_common_words = prepare_word_freq_distribution(user_messages, n=1).most_common(10)\n",
    "    user_most_common_bigrams = prepare_word_freq_distribution(user_messages, n=2).most_common(5)\n",
    "\n",
    "    pdf = FPDF(orientation = 'L', unit = 'mm', format = 'A4')\n",
    "    pdf.set_auto_page_break(False)\n",
    "    pdf.add_page()\n",
    "    pdf.image('templates/template_scorecard.png', x = 0, y = 0, w = 297, h = 210)\n",
    "\n",
    "    pdf.image(monthly_messages_plot_path, x = 10, y = 50, w = 180, h = 90)\n",
    "   \n",
    "\n",
    "\n",
    "\n",
    "    # FIRST MESSAGE\n",
    "    first_message_image_path = \"figures/{}_first_message.png\".format(user)\n",
    "    first_message_image = create_transparent_image_with_text(700, 120, user_first_message, 120)\n",
    "    first_message_image.save(first_message_image_path, \"PNG\")\n",
    "    #pdf.set_font('Arial', 'B', 10)\n",
    "    #pdf.set_text_color(255, 255, 255)\n",
    "    #pdf.set_xy(x = 55, y = 43)\n",
    "    pdf.image(first_message_image_path, x = 58, y = 43, w = 100, h = 15)\n",
    "\n",
    "\n",
    "    # Most busy day summary\n",
    "    pdf.set_font('helvetica', 'B', 14)\n",
    "    pdf.set_text_color(33, 131, 128)\n",
    "\n",
    "    pdf.set_xy(x = 55, y =138)\n",
    "    pdf.cell(w = 25, h = 10, txt = str(user_most_busy_day), border=0, align=\"C\", fill=False)\n",
    "\n",
    "    pdf.set_font('helvetica', 'B', 14)\n",
    "    pdf.set_text_color(33, 131, 128)\n",
    "    pdf.set_xy(x = 116, y =138)\n",
    "    pdf.cell(w = 25, h = 10, txt = str(user_messages_on_busy_day), border=0, align=\"C\", fill=False)\n",
    "\n",
    "\n",
    "    # Descriptive stats bottom section\n",
    "\n",
    "    pdf.set_font('helvetica', 'B', 22)\n",
    "    pdf.set_text_color(1, 178, 255)\n",
    "\n",
    "\n",
    "    pdf.set_xy(x = 10, y = 175)\n",
    "    pdf.cell(w = 40, h = 5, txt = str(user_total_messages), border=0, align=\"C\", fill=False)\n",
    "\n",
    "    pdf.set_xy(x = 65, y = 175)\n",
    "    pdf.cell(w = 30, h = 5, txt = str(user_total_obtained_reactions), border=0, align=\"C\", fill=False)\n",
    "\n",
    "    pdf.set_font('helvetica', 'B', 16)\n",
    "    pdf.set_text_color(1, 178, 255)\n",
    "\n",
    "    emotional_user_text = remove_polish_characters(user_most_reaction_from)\n",
    "    splitted_emotional_user_text = emotional_user_text.split()\n",
    "\n",
    "    if len(splitted_emotional_user_text) < 2:\n",
    "        pdf.set_xy(x = 105, y = 175)\n",
    "        pdf.cell(w = 30, h = 5, txt = emotional_user_text , border=0, align=\"C\", fill=False)\n",
    "\n",
    "    elif len(splitted_emotional_user_text) == 2:\n",
    "        pdf.set_xy(x = 112, y = 170)\n",
    "        pdf.cell(w = 30, h = 5, txt = splitted_emotional_user_text[0] , border=0, align=\"C\", fill=False)\n",
    "\n",
    "        pdf.set_xy(x = 112, y = 180)\n",
    "        pdf.cell(w = 30, h = 5, txt = splitted_emotional_user_text[1] , border=0, align=\"C\", fill=False)\n",
    "\n",
    "    else:\n",
    "        pdf.set_xy(x = 105, y = 175)\n",
    "        pdf.cell(w = 30, h = 5, txt = splitted_emotional_user_text[0] , border=0, align=\"C\", fill=False)\n",
    "\n",
    "\n",
    "\n",
    "\n",
    "    favourite_user_text = remove_polish_characters(user_favourite_messenger)\n",
    "    splitted_favourite_user_text = favourite_user_text.split()\n",
    "\n",
    "    if len(splitted_favourite_user_text) < 2:\n",
    "        pdf.set_xy(x = 155, y = 175)\n",
    "        pdf.cell(w = 30, h = 5, txt = favourite_user_text , border=0, align=\"C\", fill=False)\n",
    "\n",
    "    elif len(splitted_favourite_user_text) == 2:\n",
    "        pdf.set_xy(x = 155, y = 170)\n",
    "        pdf.cell(w = 30, h = 5, txt = splitted_favourite_user_text[0] , border=0, align=\"C\", fill=False)\n",
    "\n",
    "        pdf.set_xy(x = 155, y = 180)\n",
    "        pdf.cell(w = 30, h = 5, txt = splitted_favourite_user_text[1] , border=0, align=\"C\", fill=False)\n",
    "\n",
    "    else:\n",
    "        pdf.set_xy(x = 155, y = 175)\n",
    "        pdf.cell(w = 30, h = 5, txt = splitted_favourite_user_text[0] , border=0, align=\"C\", fill=False)\n",
    "\n",
    "\n",
    "    # TOP 10 words\n",
    "    pdf.set_font('helvetica', 'B', 14)\n",
    "    pdf.set_text_color(33, 131, 128)\n",
    "\n",
    "\n",
    "    for w in range(len(user_most_common_words)):\n",
    "        current_word = remove_polish_characters(user_most_common_words[w][0])\n",
    "        frequency = str(user_most_common_words[w][1])\n",
    "        text = str(w+1) + \". \" + current_word + \" - \" + str(frequency)\n",
    "        coord_x = 204 if w < 5 else 246\n",
    "        coord_y = 40 + w*11 if w < 5 else 40 + (w-5)*11\n",
    "        pdf.set_xy(x =coord_x, y =coord_y)\n",
    "        pdf.cell(w = 25, h = 10, txt = text, border=0, align=\"L\", fill=False)\n",
    "\n",
    "\n",
    "    # BIGRAMS\n",
    "    counter = 0\n",
    "    for b in user_most_common_bigrams:\n",
    "        first_word = remove_polish_characters(b[0][0])\n",
    "        second_word = remove_polish_characters(b[0][1])\n",
    "        frequency = str(b[1])\n",
    "        text = first_word + \" \" + second_word + \" - \" + str(frequency)\n",
    "        coord_x = 213 \n",
    "        coord_y = 132 + counter*11.5 \n",
    "        pdf.set_xy(x =coord_x, y =coord_y)\n",
    "        pdf.cell(w = 50, h = 8, txt = text, border=0, align=\"L\", fill=False)\n",
    "        counter+=1\n",
    "\n",
    "    # Title\n",
    "    pdf.set_font('helvetica', 'B', 32)\n",
    "    pdf.set_text_color(33, 131, 128)\n",
    "\n",
    "    pdf.set_xy(x = 25, y = 9)\n",
    "    pdf.cell(w = 100, h = 20, txt = remove_polish_characters(user), border=0, align=\"C\", fill=False)\n",
    "\n",
    "    pdf.output(output_path)"
   ]
  },
  {
   "cell_type": "code",
   "execution_count": 50,
   "metadata": {},
   "outputs": [],
   "source": [
    "create_scorecard(df, \"Piotrek Sokół\", user_stats, output_path=\"outputs/Piotrek.pdf\")"
   ]
  },
  {
   "cell_type": "code",
   "execution_count": 58,
   "metadata": {},
   "outputs": [
    {
     "data": {
      "text/plain": [
       "Index(['Kuba Falski', 'Wojciech Pierzchała', 'Kamil Bielecki',\n",
       "       'Maciej Romański', 'Daniel Salamon', 'Piotrek Sokół'],\n",
       "      dtype='object')"
      ]
     },
     "execution_count": 58,
     "metadata": {},
     "output_type": "execute_result"
    }
   ],
   "source": [
    "user_stats.index.unique()"
   ]
  },
  {
   "cell_type": "code",
   "execution_count": 59,
   "metadata": {},
   "outputs": [
    {
     "name": "stdout",
     "output_type": "stream",
     "text": [
      "Creating main page\n",
      "Processing user: Kuba Falski\n",
      "Processing user: Wojciech Pierzchała\n",
      "Processing user: Kamil Bielecki\n",
      "Processing user: Maciej Romański\n",
      "Processing user: Daniel Salamon\n",
      "Processing user: Piotrek Sokół\n"
     ]
    }
   ],
   "source": [
    "print(\"Creating main page\")\n",
    "main_page = create_main_page(stats, most_common, badges, \"Pozytywna Ekipa\")\n",
    "main_page.output(\"outputs/0.pdf\")\n",
    "\n",
    "participants = user_stats.index.unique()\n",
    "\n",
    "for user in range(len(participants)):\n",
    "    print(\"Processing user: {}\".format(participants[user]))\n",
    "    create_scorecard(df, participants[user], user_stats, output_path=\"outputs/{}.pdf\".format(user+1))"
   ]
  },
  {
   "cell_type": "code",
   "execution_count": 69,
   "metadata": {},
   "outputs": [
    {
     "name": "stdout",
     "output_type": "stream",
     "text": [
      "['0.pdf', '1.pdf', '2.pdf', '3.pdf', '4.pdf', '5.pdf', '6.pdf']\n"
     ]
    }
   ],
   "source": []
  },
  {
   "cell_type": "code",
   "execution_count": 70,
   "metadata": {},
   "outputs": [],
   "source": [
    "from pypdf import PdfMerger\n",
    "\n",
    "pdfs = os.listdir(\"outputs/\")\n",
    "merger = PdfMerger()\n",
    "\n",
    "for pdf in pdfs:\n",
    "    merger.append(os.path.join(\"outputs\", pdf))\n",
    "\n",
    "merger.write(\"result.pdf\")\n",
    "merger.close()"
   ]
  },
  {
   "cell_type": "code",
   "execution_count": 45,
   "metadata": {},
   "outputs": [],
   "source": [
    "a = df.loc[df[\"sender_name\"] == 'Kuba Falski']\n",
    "x = get_conversation_stats(a)"
   ]
  },
  {
   "cell_type": "code",
   "execution_count": 47,
   "metadata": {},
   "outputs": [
    {
     "data": {
      "text/plain": [
       "{'total_messages': 23879,\n",
       " 'avg_message_length': 4.95,\n",
       " 'most_busy_day': '2022-11-22',\n",
       " 'messgaes_on_most_busy_day': 289,\n",
       " 'first_message': 'Czyli o Fodenie to nie ploty',\n",
       " 'first_message_sender': 'Kuba Falski',\n",
       " 'total_reactions': 2223,\n",
       " 'most_common_reaction': '😆',\n",
       " 'most_emotional_user': 'Kamil Bielecki'}"
      ]
     },
     "execution_count": 47,
     "metadata": {},
     "output_type": "execute_result"
    }
   ],
   "source": [
    "x"
   ]
  },
  {
   "cell_type": "code",
   "execution_count": 46,
   "metadata": {},
   "outputs": [
    {
     "data": {
      "text/html": [
       "<div>\n",
       "<style scoped>\n",
       "    .dataframe tbody tr th:only-of-type {\n",
       "        vertical-align: middle;\n",
       "    }\n",
       "\n",
       "    .dataframe tbody tr th {\n",
       "        vertical-align: top;\n",
       "    }\n",
       "\n",
       "    .dataframe thead th {\n",
       "        text-align: right;\n",
       "    }\n",
       "</style>\n",
       "<table border=\"1\" class=\"dataframe\">\n",
       "  <thead>\n",
       "    <tr style=\"text-align: right;\">\n",
       "      <th></th>\n",
       "      <th>sender_name</th>\n",
       "      <th>timestamp_ms</th>\n",
       "      <th>content</th>\n",
       "      <th>reactions</th>\n",
       "      <th>datetime</th>\n",
       "      <th>month</th>\n",
       "    </tr>\n",
       "  </thead>\n",
       "  <tbody>\n",
       "    <tr>\n",
       "      <th>0</th>\n",
       "      <td>Kuba Falski</td>\n",
       "      <td>1672587137806</td>\n",
       "      <td>Same shit different year</td>\n",
       "      <td>[{'reaction': 'ð', 'actor': 'Kamil Bielecki'}]</td>\n",
       "      <td>2023-01-01 15:32:17.806</td>\n",
       "      <td>1</td>\n",
       "    </tr>\n",
       "    <tr>\n",
       "      <th>2</th>\n",
       "      <td>Kuba Falski</td>\n",
       "      <td>1672570523245</td>\n",
       "      <td>Kochany</td>\n",
       "      <td>NaN</td>\n",
       "      <td>2023-01-01 10:55:23.245</td>\n",
       "      <td>1</td>\n",
       "    </tr>\n",
       "    <tr>\n",
       "      <th>3</th>\n",
       "      <td>Kuba Falski</td>\n",
       "      <td>1672570522675</td>\n",
       "      <td>nan</td>\n",
       "      <td>[{'reaction': 'â¤', 'actor': 'Kamil Bielecki'...</td>\n",
       "      <td>2023-01-01 10:55:22.675</td>\n",
       "      <td>1</td>\n",
       "    </tr>\n",
       "    <tr>\n",
       "      <th>4</th>\n",
       "      <td>Kuba Falski</td>\n",
       "      <td>1672570514485</td>\n",
       "      <td>O nie zwróciłem wcześniej uwagi</td>\n",
       "      <td>NaN</td>\n",
       "      <td>2023-01-01 10:55:14.485</td>\n",
       "      <td>1</td>\n",
       "    </tr>\n",
       "    <tr>\n",
       "      <th>41</th>\n",
       "      <td>Kuba Falski</td>\n",
       "      <td>1672520309474</td>\n",
       "      <td>A odmrozili Marylke?</td>\n",
       "      <td>NaN</td>\n",
       "      <td>2022-12-31 20:58:29.474</td>\n",
       "      <td>12</td>\n",
       "    </tr>\n",
       "    <tr>\n",
       "      <th>...</th>\n",
       "      <td>...</td>\n",
       "      <td>...</td>\n",
       "      <td>...</td>\n",
       "      <td>...</td>\n",
       "      <td>...</td>\n",
       "      <td>...</td>\n",
       "    </tr>\n",
       "    <tr>\n",
       "      <th>7047</th>\n",
       "      <td>Kuba Falski</td>\n",
       "      <td>1641043679010</td>\n",
       "      <td>@Daniel Salamon</td>\n",
       "      <td>NaN</td>\n",
       "      <td>2022-01-01 13:27:59.010</td>\n",
       "      <td>1</td>\n",
       "    </tr>\n",
       "    <tr>\n",
       "      <th>7058</th>\n",
       "      <td>Kuba Falski</td>\n",
       "      <td>1641036818519</td>\n",
       "      <td>3 mecz na ławce</td>\n",
       "      <td>NaN</td>\n",
       "      <td>2022-01-01 11:33:38.519</td>\n",
       "      <td>1</td>\n",
       "    </tr>\n",
       "    <tr>\n",
       "      <th>7059</th>\n",
       "      <td>Kuba Falski</td>\n",
       "      <td>1641036814843</td>\n",
       "      <td>Psia krew</td>\n",
       "      <td>NaN</td>\n",
       "      <td>2022-01-01 11:33:34.843</td>\n",
       "      <td>1</td>\n",
       "    </tr>\n",
       "    <tr>\n",
       "      <th>7060</th>\n",
       "      <td>Kuba Falski</td>\n",
       "      <td>1641036809783</td>\n",
       "      <td>Ale ten Gundo</td>\n",
       "      <td>NaN</td>\n",
       "      <td>2022-01-01 11:33:29.783</td>\n",
       "      <td>1</td>\n",
       "    </tr>\n",
       "    <tr>\n",
       "      <th>7061</th>\n",
       "      <td>Kuba Falski</td>\n",
       "      <td>1641036805880</td>\n",
       "      <td>Czyli o Fodenie to nie ploty</td>\n",
       "      <td>NaN</td>\n",
       "      <td>2022-01-01 11:33:25.880</td>\n",
       "      <td>1</td>\n",
       "    </tr>\n",
       "  </tbody>\n",
       "</table>\n",
       "<p>23879 rows × 6 columns</p>\n",
       "</div>"
      ],
      "text/plain": [
       "      sender_name   timestamp_ms                          content  \\\n",
       "0     Kuba Falski  1672587137806         Same shit different year   \n",
       "2     Kuba Falski  1672570523245                          Kochany   \n",
       "3     Kuba Falski  1672570522675                              nan   \n",
       "4     Kuba Falski  1672570514485  O nie zwróciłem wcześniej uwagi   \n",
       "41    Kuba Falski  1672520309474             A odmrozili Marylke?   \n",
       "...           ...            ...                              ...   \n",
       "7047  Kuba Falski  1641043679010                  @Daniel Salamon   \n",
       "7058  Kuba Falski  1641036818519                  3 mecz na ławce   \n",
       "7059  Kuba Falski  1641036814843                        Psia krew   \n",
       "7060  Kuba Falski  1641036809783                    Ale ten Gundo   \n",
       "7061  Kuba Falski  1641036805880     Czyli o Fodenie to nie ploty   \n",
       "\n",
       "                                              reactions  \\\n",
       "0     [{'reaction': 'ð', 'actor': 'Kamil Bielecki'}]   \n",
       "2                                                   NaN   \n",
       "3     [{'reaction': 'â¤', 'actor': 'Kamil Bielecki'...   \n",
       "4                                                   NaN   \n",
       "41                                                  NaN   \n",
       "...                                                 ...   \n",
       "7047                                                NaN   \n",
       "7058                                                NaN   \n",
       "7059                                                NaN   \n",
       "7060                                                NaN   \n",
       "7061                                                NaN   \n",
       "\n",
       "                    datetime  month  \n",
       "0    2023-01-01 15:32:17.806      1  \n",
       "2    2023-01-01 10:55:23.245      1  \n",
       "3    2023-01-01 10:55:22.675      1  \n",
       "4    2023-01-01 10:55:14.485      1  \n",
       "41   2022-12-31 20:58:29.474     12  \n",
       "...                      ...    ...  \n",
       "7047 2022-01-01 13:27:59.010      1  \n",
       "7058 2022-01-01 11:33:38.519      1  \n",
       "7059 2022-01-01 11:33:34.843      1  \n",
       "7060 2022-01-01 11:33:29.783      1  \n",
       "7061 2022-01-01 11:33:25.880      1  \n",
       "\n",
       "[23879 rows x 6 columns]"
      ]
     },
     "execution_count": 46,
     "metadata": {},
     "output_type": "execute_result"
    }
   ],
   "source": [
    "a"
   ]
  },
  {
   "cell_type": "code",
   "execution_count": 28,
   "metadata": {},
   "outputs": [],
   "source": [
    "w = {\"Falski\" : x}"
   ]
  },
  {
   "cell_type": "code",
   "execution_count": 11,
   "metadata": {},
   "outputs": [
    {
     "data": {
      "text/html": [
       "<div>\n",
       "<style scoped>\n",
       "    .dataframe tbody tr th:only-of-type {\n",
       "        vertical-align: middle;\n",
       "    }\n",
       "\n",
       "    .dataframe tbody tr th {\n",
       "        vertical-align: top;\n",
       "    }\n",
       "\n",
       "    .dataframe thead th {\n",
       "        text-align: right;\n",
       "    }\n",
       "</style>\n",
       "<table border=\"1\" class=\"dataframe\">\n",
       "  <thead>\n",
       "    <tr style=\"text-align: right;\">\n",
       "      <th></th>\n",
       "      <th>total_messages</th>\n",
       "      <th>avg_message_length</th>\n",
       "      <th>most_busy_day</th>\n",
       "      <th>messgaes_on_most_busy_day</th>\n",
       "      <th>first_message</th>\n",
       "      <th>first_message_sender</th>\n",
       "      <th>total_reactions</th>\n",
       "      <th>most_common_reaction</th>\n",
       "      <th>most_emotional_user</th>\n",
       "    </tr>\n",
       "  </thead>\n",
       "  <tbody>\n",
       "    <tr>\n",
       "      <th>Kuba Falski</th>\n",
       "      <td>23879</td>\n",
       "      <td>4.95</td>\n",
       "      <td>2022-11-22</td>\n",
       "      <td>289</td>\n",
       "      <td>Czyli o Fodenie to nie ploty</td>\n",
       "      <td>Kuba Falski</td>\n",
       "      <td>2223</td>\n",
       "      <td>😆</td>\n",
       "      <td>Kamil Bielecki</td>\n",
       "    </tr>\n",
       "    <tr>\n",
       "      <th>Wojciech Pierzchała</th>\n",
       "      <td>24635</td>\n",
       "      <td>4.65</td>\n",
       "      <td>2022-04-10</td>\n",
       "      <td>396</td>\n",
       "      <td>Badanie polegało na podawaniu zwierzętom alkoh...</td>\n",
       "      <td>Wojciech Pierzchała</td>\n",
       "      <td>3594</td>\n",
       "      <td>😆</td>\n",
       "      <td>Kuba Falski</td>\n",
       "    </tr>\n",
       "    <tr>\n",
       "      <th>Kamil Bielecki</th>\n",
       "      <td>8520</td>\n",
       "      <td>4.93</td>\n",
       "      <td>2022-04-10</td>\n",
       "      <td>207</td>\n",
       "      <td>PiotrekSoker.mp3</td>\n",
       "      <td>Kamil Bielecki</td>\n",
       "      <td>1843</td>\n",
       "      <td>😆</td>\n",
       "      <td>Wojciech Pierzchała</td>\n",
       "    </tr>\n",
       "    <tr>\n",
       "      <th>Maciej Romański</th>\n",
       "      <td>6205</td>\n",
       "      <td>3.84</td>\n",
       "      <td>2022-11-22</td>\n",
       "      <td>84</td>\n",
       "      <td>Kto by się spodziewał</td>\n",
       "      <td>Maciej Romański</td>\n",
       "      <td>2276</td>\n",
       "      <td>😆</td>\n",
       "      <td>Kuba Falski</td>\n",
       "    </tr>\n",
       "    <tr>\n",
       "      <th>Daniel Salamon</th>\n",
       "      <td>1936</td>\n",
       "      <td>4.81</td>\n",
       "      <td>2022-04-17</td>\n",
       "      <td>54</td>\n",
       "      <td>Kurwa sie najebalem</td>\n",
       "      <td>Daniel Salamon</td>\n",
       "      <td>633</td>\n",
       "      <td>😆</td>\n",
       "      <td>Kuba Falski</td>\n",
       "    </tr>\n",
       "    <tr>\n",
       "      <th>Piotrek Sokół</th>\n",
       "      <td>11889</td>\n",
       "      <td>4.06</td>\n",
       "      <td>2022-11-10</td>\n",
       "      <td>237</td>\n",
       "      <td>Danilo</td>\n",
       "      <td>Piotrek Sokół</td>\n",
       "      <td>3118</td>\n",
       "      <td>😆</td>\n",
       "      <td>Kuba Falski</td>\n",
       "    </tr>\n",
       "    <tr>\n",
       "      <th>Maria Kościelniak</th>\n",
       "      <td>1</td>\n",
       "      <td>5.00</td>\n",
       "      <td>2022-11-12</td>\n",
       "      <td>1</td>\n",
       "      <td>Maria Kościelniak opuścił(a) grupę.</td>\n",
       "      <td>Maria Kościelniak</td>\n",
       "      <td>0</td>\n",
       "      <td>None</td>\n",
       "      <td></td>\n",
       "    </tr>\n",
       "  </tbody>\n",
       "</table>\n",
       "</div>"
      ],
      "text/plain": [
       "                     total_messages  avg_message_length most_busy_day  \\\n",
       "Kuba Falski                   23879                4.95    2022-11-22   \n",
       "Wojciech Pierzchała           24635                4.65    2022-04-10   \n",
       "Kamil Bielecki                 8520                4.93    2022-04-10   \n",
       "Maciej Romański                6205                3.84    2022-11-22   \n",
       "Daniel Salamon                 1936                4.81    2022-04-17   \n",
       "Piotrek Sokół                 11889                4.06    2022-11-10   \n",
       "Maria Kościelniak                 1                5.00    2022-11-12   \n",
       "\n",
       "                     messgaes_on_most_busy_day  \\\n",
       "Kuba Falski                                289   \n",
       "Wojciech Pierzchała                        396   \n",
       "Kamil Bielecki                             207   \n",
       "Maciej Romański                             84   \n",
       "Daniel Salamon                              54   \n",
       "Piotrek Sokół                              237   \n",
       "Maria Kościelniak                            1   \n",
       "\n",
       "                                                         first_message  \\\n",
       "Kuba Falski                               Czyli o Fodenie to nie ploty   \n",
       "Wojciech Pierzchała  Badanie polegało na podawaniu zwierzętom alkoh...   \n",
       "Kamil Bielecki                                        PiotrekSoker.mp3   \n",
       "Maciej Romański                                  Kto by się spodziewał   \n",
       "Daniel Salamon                                     Kurwa sie najebalem   \n",
       "Piotrek Sokół                                                   Danilo   \n",
       "Maria Kościelniak                  Maria Kościelniak opuścił(a) grupę.   \n",
       "\n",
       "                    first_message_sender  total_reactions  \\\n",
       "Kuba Falski                  Kuba Falski             2223   \n",
       "Wojciech Pierzchała  Wojciech Pierzchała             3594   \n",
       "Kamil Bielecki            Kamil Bielecki             1843   \n",
       "Maciej Romański          Maciej Romański             2276   \n",
       "Daniel Salamon            Daniel Salamon              633   \n",
       "Piotrek Sokół              Piotrek Sokół             3118   \n",
       "Maria Kościelniak      Maria Kościelniak                0   \n",
       "\n",
       "                    most_common_reaction  most_emotional_user  \n",
       "Kuba Falski                            😆       Kamil Bielecki  \n",
       "Wojciech Pierzchała                    😆          Kuba Falski  \n",
       "Kamil Bielecki                         😆  Wojciech Pierzchała  \n",
       "Maciej Romański                        😆          Kuba Falski  \n",
       "Daniel Salamon                         😆          Kuba Falski  \n",
       "Piotrek Sokół                          😆          Kuba Falski  \n",
       "Maria Kościelniak                   None                       "
      ]
     },
     "execution_count": 11,
     "metadata": {},
     "output_type": "execute_result"
    }
   ],
   "source": [
    "pd.DataFrame.from_dict(w, orient='index')"
   ]
  },
  {
   "cell_type": "code",
   "execution_count": 19,
   "metadata": {},
   "outputs": [
    {
     "data": {
      "text/plain": [
       "array(['Kuba Falski', 'Wojciech Pierzchała', 'Kamil Bielecki',\n",
       "       'Maciej Romański', 'Daniel Salamon', 'Piotrek Sokół',\n",
       "       'Maria Kościelniak'], dtype=object)"
      ]
     },
     "execution_count": 19,
     "metadata": {},
     "output_type": "execute_result"
    }
   ],
   "source": [
    "df['sender_name'].unique()"
   ]
  },
  {
   "cell_type": "code",
   "execution_count": 11,
   "metadata": {},
   "outputs": [
    {
     "data": {
      "text/plain": [
       "{'Kalina Paprzycka': {'favourtite_reaction_given': '❤',\n",
       "  'favourite_user_to_give': 'Daniel Salamon'},\n",
       " 'Daniel Salamon': {'favourtite_reaction_given': '❤',\n",
       "  'favourite_user_to_give': 'Kalina Paprzycka'},\n",
       " 'Aleksander Odziemkowski': {'favourtite_reaction_given': '❤',\n",
       "  'favourite_user_to_give': 'Daniel Salamon'},\n",
       " 'Maria Kościelniak': {'favourtite_reaction_given': '❤',\n",
       "  'favourite_user_to_give': 'Paweł Szymanowski'},\n",
       " 'Julita Sobiczewska': {'favourtite_reaction_given': '❤',\n",
       "  'favourite_user_to_give': 'Daniel Salamon'},\n",
       " 'Paweł Szymanowski': {'favourtite_reaction_given': '❤',\n",
       "  'favourite_user_to_give': 'Daniel Salamon'}}"
      ]
     },
     "execution_count": 11,
     "metadata": {},
     "output_type": "execute_result"
    }
   ],
   "source": [
    "granted_reaction_stats_per_user(df)"
   ]
  },
  {
   "cell_type": "code",
   "execution_count": 12,
   "metadata": {},
   "outputs": [
    {
     "data": {
      "text/plain": [
       "{'total_reactions': 108,\n",
       " 'favourite_icon_received': '❤',\n",
       " 'most_reactions_received': 'Kalina Paprzycka'}"
      ]
     },
     "execution_count": 12,
     "metadata": {},
     "output_type": "execute_result"
    }
   ],
   "source": [
    "received_reactions_stats(df)"
   ]
  },
  {
   "cell_type": "code",
   "execution_count": 13,
   "metadata": {},
   "outputs": [
    {
     "data": {
      "text/plain": [
       "{'total_messages': 401,\n",
       " 'avg_message_length': 5.25,\n",
       " 'most_busy_day': '2022-03-22',\n",
       " 'messgaes_on_most_busy_day': 40,\n",
       " 'first_message': 'Siemka, jakieś słuchy dochodzą ze Melo Inferno w Groningen się zapowiada :3 na otwarcie rezydencji',\n",
       " 'first_message_sender': 'Paweł Szymanowski',\n",
       " 'total_reactions': 108,\n",
       " 'most_common_reaction': '❤',\n",
       " 'most_emotional_user': 'Kalina Paprzycka'}"
      ]
     },
     "execution_count": 13,
     "metadata": {},
     "output_type": "execute_result"
    }
   ],
   "source": [
    "get_conversation_stats(df)"
   ]
  },
  {
   "cell_type": "code",
   "execution_count": null,
   "metadata": {},
   "outputs": [],
   "source": [
    "'Wojciech PierzchaÅ\\x82a'.encode('iso-8859-1').decode('utf-8')"
   ]
  },
  {
   "cell_type": "code",
   "execution_count": 8,
   "metadata": {},
   "outputs": [],
   "source": [
    "tokens = tokenize_messages(df, \"resources/pl_stopwords.txt\")"
   ]
  },
  {
   "cell_type": "code",
   "execution_count": 9,
   "metadata": {},
   "outputs": [],
   "source": [
    "fdist = prepare_word_freq_distribution(tokens, 1)"
   ]
  },
  {
   "cell_type": "code",
   "execution_count": 10,
   "metadata": {},
   "outputs": [
    {
     "data": {
      "text/plain": [
       "[('xd', 2573),\n",
       " ('kurwa', 1731),\n",
       " ('chyba', 1690),\n",
       " ('tez', 1304),\n",
       " ('xddd', 912),\n",
       " ('xdd', 722),\n",
       " ('wiem', 717),\n",
       " ('se', 686),\n",
       " ('chuj', 630),\n",
       " ('ej', 580)]"
      ]
     },
     "execution_count": 10,
     "metadata": {},
     "output_type": "execute_result"
    }
   ],
   "source": [
    "fdist.most_common(10)"
   ]
  },
  {
   "cell_type": "code",
   "execution_count": 11,
   "metadata": {},
   "outputs": [
    {
     "data": {
      "image/png": "[encoded data removed]",
      "text/plain": [
       "<Figure size 720x576 with 1 Axes>"
      ]
     },
     "metadata": {
      "needs_background": "light"
     },
     "output_type": "display_data"
    }
   ],
   "source": [
    "from plot_functions import generate_wordcloud\n",
    "generate_wordcloud(tokens)"
   ]
  }
 ],
 "metadata": {
  "kernelspec": {
   "display_name": "Python 3.7.6 64-bit",
   "language": "python",
   "name": "python3"
  },
  "language_info": {
   "codemirror_mode": {
    "name": "ipython",
    "version": 3
   },
   "file_extension": ".py",
   "mimetype": "text/x-python",
   "name": "python",
   "nbconvert_exporter": "python",
   "pygments_lexer": "ipython3",
   "version": "3.7.6"
  },
  "orig_nbformat": 4,
  "vscode": {
   "interpreter": {
    "hash": "11ffcaf5e338cc7e59ccbbb63f11cb41d40ca05443a504585a9bb07a61365e10"
   }
  }
 },
 "nbformat": 4,
 "nbformat_minor": 2
}
